{
 "cells": [
  {
   "cell_type": "code",
   "execution_count": 1,
   "metadata": {},
   "outputs": [
    {
     "name": "stderr",
     "output_type": "stream",
     "text": [
      "Using TensorFlow backend.\n"
     ]
    }
   ],
   "source": [
    "from keras.layers import Conv2D, Conv2DTranspose, UpSampling2D\n",
    "from keras.layers import Activation, Dense, Dropout, Flatten, InputLayer\n",
    "from keras.layers.normalization import BatchNormalization\n",
    "from keras.callbacks import TensorBoard\n",
    "from keras.models import Sequential\n",
    "from keras.optimizers import RMSprop\n",
    "from keras.preprocessing.image import ImageDataGenerator, array_to_img, img_to_array, load_img\n",
    "from skimage.color import rgb2lab, lab2rgb, rgb2gray\n",
    "from skimage.io import imsave\n",
    "import numpy as np\n",
    "import os\n",
    "import random\n",
    "import tensorflow as tf"
   ]
  },
  {
   "cell_type": "code",
   "execution_count": 2,
   "metadata": {},
   "outputs": [],
   "source": [
    "# Get images\n",
    "# Change to '/data/images/Train/' to use all the 10k images\n",
    "X = []\n",
    "for filename in os.listdir('./feature_images/'):\n",
    "    X.append(img_to_array(load_img('./feature_images/'+filename)))\n",
    "X = np.array(X, dtype=float)\n",
    "\n",
    "# Set up train and test data\n",
    "split = int(0.95*len(X))\n",
    "Xtrain = X[:split]\n",
    "Xtrain = 1.0/255*Xtrain"
   ]
  },
  {
   "cell_type": "code",
   "execution_count": 3,
   "metadata": {},
   "outputs": [],
   "source": [
    "model = Sequential()\n",
    "model.add(InputLayer(input_shape=(256, 256, 1)))\n",
    "model.add(Conv2D(64, (3, 3), activation='relu', padding='same'))\n",
    "model.add(Conv2D(64, (3, 3), activation='relu', padding='same', strides=2))\n",
    "model.add(Conv2D(128, (3, 3), activation='relu', padding='same'))\n",
    "model.add(Conv2D(128, (3, 3), activation='relu', padding='same', strides=2))\n",
    "model.add(Conv2D(256, (3, 3), activation='relu', padding='same'))\n",
    "model.add(Conv2D(256, (3, 3), activation='relu', padding='same', strides=2))\n",
    "model.add(Conv2D(512, (3, 3), activation='relu', padding='same'))\n",
    "model.add(Conv2D(256, (3, 3), activation='relu', padding='same'))\n",
    "model.add(Conv2D(128, (3, 3), activation='relu', padding='same'))\n",
    "model.add(UpSampling2D((2, 2)))\n",
    "model.add(Conv2D(64, (3, 3), activation='relu', padding='same'))\n",
    "model.add(UpSampling2D((2, 2)))\n",
    "model.add(Conv2D(32, (3, 3), activation='relu', padding='same'))\n",
    "model.add(Conv2D(2, (3, 3), activation='tanh', padding='same'))\n",
    "model.add(UpSampling2D((2, 2)))\n",
    "model.compile(optimizer='Adam', loss='mse')"
   ]
  },
  {
   "cell_type": "code",
   "execution_count": 4,
   "metadata": {},
   "outputs": [
    {
     "name": "stdout",
     "output_type": "stream",
     "text": [
      "Epoch 1/100\n",
      "2/2 [==============================] - 32s 16s/step - loss: 0.5175\n",
      "Epoch 2/100\n",
      "2/2 [==============================] - 30s 15s/step - loss: 0.3793\n",
      "Epoch 3/100\n",
      "2/2 [==============================] - 29s 15s/step - loss: 0.0045\n",
      "Epoch 4/100\n",
      "2/2 [==============================] - 29s 14s/step - loss: 0.0036\n",
      "Epoch 5/100\n",
      "2/2 [==============================] - 29s 14s/step - loss: 0.0033\n",
      "Epoch 6/100\n",
      "2/2 [==============================] - 29s 14s/step - loss: 0.0032\n",
      "Epoch 7/100\n",
      "2/2 [==============================] - 29s 14s/step - loss: 0.0030\n",
      "Epoch 8/100\n",
      "2/2 [==============================] - 30s 15s/step - loss: 0.0031\n",
      "Epoch 9/100\n",
      "2/2 [==============================] - 31s 15s/step - loss: 0.0031\n",
      "Epoch 10/100\n",
      "2/2 [==============================] - 31s 15s/step - loss: 0.0029\n",
      "Epoch 11/100\n",
      "2/2 [==============================] - 31s 16s/step - loss: 0.0027\n",
      "Epoch 12/100\n",
      "2/2 [==============================] - 30s 15s/step - loss: 0.0028\n",
      "Epoch 13/100\n",
      "2/2 [==============================] - 31s 16s/step - loss: 0.0030\n",
      "Epoch 14/100\n",
      "2/2 [==============================] - 29s 14s/step - loss: 0.0030\n",
      "Epoch 15/100\n",
      "2/2 [==============================] - 29s 14s/step - loss: 0.0031\n",
      "Epoch 16/100\n",
      "2/2 [==============================] - 29s 14s/step - loss: 0.0029\n",
      "Epoch 17/100\n",
      "2/2 [==============================] - 28s 14s/step - loss: 0.0028\n",
      "Epoch 18/100\n",
      "2/2 [==============================] - 28s 14s/step - loss: 0.0026\n",
      "Epoch 19/100\n",
      "2/2 [==============================] - 29s 14s/step - loss: 0.0027\n",
      "Epoch 20/100\n",
      "2/2 [==============================] - 29s 14s/step - loss: 0.0028\n",
      "Epoch 21/100\n",
      "2/2 [==============================] - 29s 15s/step - loss: 0.0025\n",
      "Epoch 22/100\n",
      "2/2 [==============================] - 29s 14s/step - loss: 0.0026\n",
      "Epoch 23/100\n",
      "2/2 [==============================] - 30s 15s/step - loss: 0.0023\n",
      "Epoch 24/100\n",
      "2/2 [==============================] - 31s 16s/step - loss: 0.0023\n",
      "Epoch 25/100\n",
      "2/2 [==============================] - 32s 16s/step - loss: 0.0022\n",
      "Epoch 26/100\n",
      "2/2 [==============================] - 31s 16s/step - loss: 0.0021\n",
      "Epoch 27/100\n",
      "2/2 [==============================] - 31s 15s/step - loss: 0.0020\n",
      "Epoch 28/100\n",
      "2/2 [==============================] - 32s 16s/step - loss: 0.0020\n",
      "Epoch 29/100\n",
      "2/2 [==============================] - 31s 15s/step - loss: 0.0020\n",
      "Epoch 30/100\n",
      "2/2 [==============================] - 31s 16s/step - loss: 0.0021\n",
      "Epoch 31/100\n",
      "2/2 [==============================] - 33s 16s/step - loss: 0.0020\n",
      "Epoch 32/100\n",
      "2/2 [==============================] - 32s 16s/step - loss: 0.0020\n",
      "Epoch 33/100\n",
      "2/2 [==============================] - 33s 16s/step - loss: 0.0019\n",
      "Epoch 34/100\n",
      "2/2 [==============================] - 35s 17s/step - loss: 0.0018\n",
      "Epoch 35/100\n",
      "2/2 [==============================] - 36s 18s/step - loss: 0.0018\n",
      "Epoch 36/100\n",
      "2/2 [==============================] - 36s 18s/step - loss: 0.0017\n",
      "Epoch 37/100\n",
      "2/2 [==============================] - 35s 17s/step - loss: 0.0017\n",
      "Epoch 38/100\n",
      "2/2 [==============================] - 33s 17s/step - loss: 0.0016\n",
      "Epoch 39/100\n",
      "2/2 [==============================] - 29s 14s/step - loss: 0.0016\n",
      "Epoch 40/100\n",
      "2/2 [==============================] - 29s 14s/step - loss: 0.0017\n",
      "Epoch 41/100\n",
      "2/2 [==============================] - 28s 14s/step - loss: 0.0015\n",
      "Epoch 42/100\n",
      "2/2 [==============================] - 29s 14s/step - loss: 0.0015\n",
      "Epoch 43/100\n",
      "2/2 [==============================] - 28s 14s/step - loss: 0.0015\n",
      "Epoch 44/100\n",
      "2/2 [==============================] - 28s 14s/step - loss: 0.0014\n",
      "Epoch 45/100\n",
      "2/2 [==============================] - 28s 14s/step - loss: 0.0014\n",
      "Epoch 46/100\n",
      "2/2 [==============================] - 29s 14s/step - loss: 0.0014\n",
      "Epoch 47/100\n",
      "2/2 [==============================] - 29s 14s/step - loss: 0.0013\n",
      "Epoch 48/100\n",
      "2/2 [==============================] - 29s 14s/step - loss: 0.0013\n",
      "Epoch 49/100\n",
      "2/2 [==============================] - 29s 14s/step - loss: 0.0013\n",
      "Epoch 50/100\n",
      "2/2 [==============================] - 29s 14s/step - loss: 0.0012\n",
      "Epoch 51/100\n",
      "2/2 [==============================] - 29s 14s/step - loss: 0.0011\n",
      "Epoch 52/100\n",
      "2/2 [==============================] - 28s 14s/step - loss: 0.0011\n",
      "Epoch 53/100\n",
      "2/2 [==============================] - 29s 14s/step - loss: 0.0014\n",
      "Epoch 54/100\n",
      "2/2 [==============================] - 29s 14s/step - loss: 0.0014\n",
      "Epoch 55/100\n",
      "2/2 [==============================] - 29s 14s/step - loss: 0.0014\n",
      "Epoch 56/100\n",
      "2/2 [==============================] - 28s 14s/step - loss: 0.0014\n",
      "Epoch 57/100\n",
      "2/2 [==============================] - 28s 14s/step - loss: 0.0013\n",
      "Epoch 58/100\n",
      "2/2 [==============================] - 29s 14s/step - loss: 0.0013\n",
      "Epoch 59/100\n",
      "2/2 [==============================] - 29s 14s/step - loss: 0.0012\n",
      "Epoch 60/100\n",
      "2/2 [==============================] - 28s 14s/step - loss: 0.0011\n",
      "Epoch 61/100\n",
      "2/2 [==============================] - 29s 14s/step - loss: 0.0011\n",
      "Epoch 62/100\n",
      "2/2 [==============================] - 29s 15s/step - loss: 0.0010\n",
      "Epoch 63/100\n",
      "2/2 [==============================] - 28s 14s/step - loss: 9.6434e-04\n",
      "Epoch 64/100\n",
      "2/2 [==============================] - 29s 14s/step - loss: 9.4476e-04\n",
      "Epoch 65/100\n",
      "2/2 [==============================] - 29s 14s/step - loss: 8.7519e-04\n",
      "Epoch 66/100\n",
      "2/2 [==============================] - 29s 14s/step - loss: 8.5036e-04\n",
      "Epoch 67/100\n",
      "2/2 [==============================] - 29s 14s/step - loss: 9.7323e-04\n",
      "Epoch 68/100\n",
      "2/2 [==============================] - 28s 14s/step - loss: 8.0397e-04\n",
      "Epoch 69/100\n",
      "2/2 [==============================] - 28s 14s/step - loss: 7.6327e-04\n",
      "Epoch 70/100\n",
      "2/2 [==============================] - 29s 14s/step - loss: 7.0970e-04\n",
      "Epoch 71/100\n",
      "2/2 [==============================] - 29s 14s/step - loss: 6.6703e-04\n",
      "Epoch 72/100\n",
      "2/2 [==============================] - 29s 14s/step - loss: 6.5345e-04\n",
      "Epoch 73/100\n",
      "2/2 [==============================] - 29s 14s/step - loss: 6.1650e-04\n",
      "Epoch 74/100\n",
      "2/2 [==============================] - 28s 14s/step - loss: 6.0686e-04\n",
      "Epoch 75/100\n",
      "2/2 [==============================] - 29s 14s/step - loss: 5.8011e-04\n",
      "Epoch 76/100\n",
      "2/2 [==============================] - 28s 14s/step - loss: 5.7063e-04\n",
      "Epoch 77/100\n",
      "2/2 [==============================] - 29s 14s/step - loss: 5.8364e-04\n",
      "Epoch 78/100\n",
      "2/2 [==============================] - 29s 14s/step - loss: 5.7110e-04\n",
      "Epoch 79/100\n",
      "2/2 [==============================] - 28s 14s/step - loss: 5.3807e-04\n",
      "Epoch 80/100\n",
      "2/2 [==============================] - 28s 14s/step - loss: 5.1790e-04\n",
      "Epoch 81/100\n",
      "2/2 [==============================] - 28s 14s/step - loss: 5.1659e-04\n",
      "Epoch 82/100\n",
      "2/2 [==============================] - 29s 14s/step - loss: 5.0110e-04\n",
      "Epoch 83/100\n",
      "2/2 [==============================] - 28s 14s/step - loss: 5.2062e-04\n",
      "Epoch 84/100\n",
      "2/2 [==============================] - 29s 14s/step - loss: 4.8516e-04\n",
      "Epoch 85/100\n",
      "2/2 [==============================] - 29s 14s/step - loss: 4.7243e-04\n",
      "Epoch 86/100\n",
      "2/2 [==============================] - 29s 14s/step - loss: 4.5204e-04\n",
      "Epoch 87/100\n",
      "2/2 [==============================] - 29s 14s/step - loss: 4.5518e-04\n",
      "Epoch 88/100\n",
      "2/2 [==============================] - 28s 14s/step - loss: 4.4736e-04\n",
      "Epoch 89/100\n",
      "2/2 [==============================] - 29s 14s/step - loss: 5.0454e-04\n",
      "Epoch 90/100\n",
      "2/2 [==============================] - 28s 14s/step - loss: 4.5016e-04\n",
      "Epoch 91/100\n",
      "2/2 [==============================] - 28s 14s/step - loss: 4.5325e-04\n",
      "Epoch 92/100\n",
      "2/2 [==============================] - 28s 14s/step - loss: 4.4178e-04\n",
      "Epoch 93/100\n",
      "2/2 [==============================] - 29s 14s/step - loss: 4.3165e-04\n",
      "Epoch 94/100\n",
      "2/2 [==============================] - 29s 14s/step - loss: 3.9978e-04\n",
      "Epoch 95/100\n",
      "2/2 [==============================] - 29s 14s/step - loss: 4.1075e-04\n",
      "Epoch 96/100\n",
      "2/2 [==============================] - 29s 14s/step - loss: 3.9791e-04\n",
      "Epoch 97/100\n",
      "2/2 [==============================] - 28s 14s/step - loss: 4.0138e-04\n",
      "Epoch 98/100\n",
      "2/2 [==============================] - 28s 14s/step - loss: 3.8563e-04\n",
      "Epoch 99/100\n",
      "2/2 [==============================] - 29s 14s/step - loss: 3.7644e-04\n",
      "Epoch 100/100\n",
      "2/2 [==============================] - 28s 14s/step - loss: 3.7252e-04\n"
     ]
    },
    {
     "data": {
      "text/plain": [
       "<keras.callbacks.History at 0x7f290cce2450>"
      ]
     },
     "execution_count": 4,
     "metadata": {},
     "output_type": "execute_result"
    }
   ],
   "source": [
    "# Image transformer\n",
    "datagen = ImageDataGenerator()\n",
    "\n",
    "# Generate training data\n",
    "batch_size = 30\n",
    "def image_a_b_gen(batch_size):\n",
    "    for batch in datagen.flow(Xtrain, batch_size=batch_size):\n",
    "        lab_batch = rgb2lab(batch)\n",
    "        X_batch = lab_batch[:,:,:,0]\n",
    "        Y_batch = lab_batch[:,:,:,1:] / 128\n",
    "        yield (X_batch.reshape(X_batch.shape+(1,)), Y_batch)\n",
    "\n",
    "# Train model      \n",
    "tensorboard = TensorBoard(log_dir=\"./output/beta_run1\")\n",
    "model.fit_generator(image_a_b_gen(batch_size), callbacks=[tensorboard], epochs=100, steps_per_epoch=2)"
   ]
  },
  {
   "cell_type": "code",
   "execution_count": 5,
   "metadata": {},
   "outputs": [
    {
     "name": "stdout",
     "output_type": "stream",
     "text": [
      "4/4 [==============================] - 0s 122ms/step\n",
      "0.000526185787749\n"
     ]
    }
   ],
   "source": [
    "# Test images\n",
    "Xtest = rgb2lab(1.0/255*X[split:])[:,:,:,0]\n",
    "Xtest = Xtest.reshape(Xtest.shape+(1,))\n",
    "Ytest = rgb2lab(1.0/255*X[split:])[:,:,:,1:]\n",
    "Ytest = Ytest / 128\n",
    "print(model.evaluate(Xtest, Ytest, batch_size=batch_size))"
   ]
  },
  {
   "cell_type": "code",
   "execution_count": 7,
   "metadata": {},
   "outputs": [
    {
     "name": "stderr",
     "output_type": "stream",
     "text": [
      "/home/chanani/anaconda3/lib/python2.7/site-packages/skimage/util/dtype.py:122: UserWarning: Possible precision loss when converting from float64 to uint8\n",
      "  .format(dtypeobj_in, dtypeobj_out))\n"
     ]
    }
   ],
   "source": [
    "color_me = []\n",
    "for filename in os.listdir('./feature_images/'):\n",
    "    color_me.append(img_to_array(load_img('./feature_images/'+filename)))\n",
    "color_me = np.array(color_me, dtype=float)\n",
    "color_me = rgb2lab(1.0/255*color_me)[:,:,:,0]\n",
    "color_me = color_me.reshape(color_me.shape+(1,))\n",
    "\n",
    "# Test model\n",
    "output = model.predict(color_me)\n",
    "output = output * 128\n",
    "\n",
    "# Output colorizations\n",
    "for i in range(len(output)):\n",
    "    cur = np.zeros((256, 256, 3))\n",
    "    cur[:,:,0] = color_me[i][:,:,0]\n",
    "    cur[:,:,1:] = output[i]\n",
    "    imsave(\"./result/img1_\"+str(i)+\".png\", lab2rgb(cur))"
   ]
  },
  {
   "cell_type": "code",
   "execution_count": 8,
   "metadata": {},
   "outputs": [],
   "source": [
    "model.save('model1.h5')"
   ]
  },
  {
   "cell_type": "code",
   "execution_count": null,
   "metadata": {},
   "outputs": [],
   "source": [
    "from keras.models import load_model"
   ]
  },
  {
   "cell_type": "code",
   "execution_count": null,
   "metadata": {},
   "outputs": [],
   "source": [
    "model = load_model('model.h5')"
   ]
  },
  {
   "cell_type": "code",
   "execution_count": 9,
   "metadata": {},
   "outputs": [],
   "source": [
    "import cv2 as cv"
   ]
  },
  {
   "cell_type": "code",
   "execution_count": 13,
   "metadata": {},
   "outputs": [
    {
     "ename": "error",
     "evalue": "OpenCV(3.4.1) /opt/conda/conda-bld/opencv-suite_1527005194613/work/modules/highgui/src/window.cpp:636: error: (-2) The function is not implemented. Rebuild the library with Windows, GTK+ 2.x or Carbon support. If you are on Ubuntu or Debian, install libgtk2.0-dev and pkg-config, then re-run cmake or configure script in function cvShowImage\n",
     "output_type": "error",
     "traceback": [
      "\u001b[0;31m-------------------------------------------------------------------------\u001b[0m",
      "\u001b[0;31merror\u001b[0m                                   Traceback (most recent call last)",
      "\u001b[0;32m<ipython-input-13-9606176aeac1>\u001b[0m in \u001b[0;36m<module>\u001b[0;34m()\u001b[0m\n\u001b[0;32m----> 1\u001b[0;31m \u001b[0mcv\u001b[0m\u001b[0;34m.\u001b[0m\u001b[0mimshow\u001b[0m\u001b[0;34m(\u001b[0m\u001b[0;34m'img'\u001b[0m\u001b[0;34m,\u001b[0m\u001b[0mcv\u001b[0m\u001b[0;34m.\u001b[0m\u001b[0mimread\u001b[0m\u001b[0;34m(\u001b[0m\u001b[0;34m'./Downloads/I9.jpg'\u001b[0m\u001b[0;34m)\u001b[0m\u001b[0;34m)\u001b[0m\u001b[0;34m\u001b[0m\u001b[0m\n\u001b[0m",
      "\u001b[0;31merror\u001b[0m: OpenCV(3.4.1) /opt/conda/conda-bld/opencv-suite_1527005194613/work/modules/highgui/src/window.cpp:636: error: (-2) The function is not implemented. Rebuild the library with Windows, GTK+ 2.x or Carbon support. If you are on Ubuntu or Debian, install libgtk2.0-dev and pkg-config, then re-run cmake or configure script in function cvShowImage\n"
     ]
    }
   ],
   "source": [
    "cv.imshow('img',cv.imread('./Downloads/I9.jpg'))"
   ]
  },
  {
   "cell_type": "code",
   "execution_count": null,
   "metadata": {},
   "outputs": [],
   "source": []
  }
 ],
 "metadata": {
  "kernelspec": {
   "display_name": "Python 3",
   "language": "python",
   "name": "python3"
  },
  "language_info": {
   "codemirror_mode": {
    "name": "ipython",
    "version": 3
   },
   "file_extension": ".py",
   "mimetype": "text/x-python",
   "name": "python",
   "nbconvert_exporter": "python",
   "pygments_lexer": "ipython3",
   "version": "3.6.5"
  }
 },
 "nbformat": 4,
 "nbformat_minor": 2
}
